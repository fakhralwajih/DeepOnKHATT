{
 "cells": [
  {
   "cell_type": "code",
   "execution_count": 2,
   "metadata": {},
   "outputs": [],
   "source": [
    "import numpy as np\n",
    "from alphabet import Alphabet"
   ]
  },
  {
   "cell_type": "code",
   "execution_count": 3,
   "metadata": {},
   "outputs": [],
   "source": [
    "alefs = [ \"ا\", \"أ\", \"آ\", \"إ\" ]"
   ]
  },
  {
   "cell_type": "code",
   "execution_count": 4,
   "metadata": {},
   "outputs": [],
   "source": [
    "chars = ' ABCDEFGHIJKLMNOPQRSTUVWXYZÀÁÂÃÄÅÆÇÈÉÊËÌÍÎÏÐÑÒÓÔÕÖ×ØÙÚÛÜÝÞßàáâãäåæçèéêëìíîïðñòóôõö÷øùúûüýþÿĀāĂăĄąĆćĈĉĊċČčĎďĐđĒēĔĕĖėĘęĚěĜĝĞğĠġĢģĤ0123456789!\"%(),./:=?[]«»،؛؟-+*'"
   ]
  },
  {
   "cell_type": "code",
   "execution_count": 6,
   "metadata": {},
   "outputs": [],
   "source": [
    "letters = {}\n",
    "letters_positions={}\n",
    "with open('letters.csv','r', encoding='utf-8') as inf:\n",
    "    for line in inf:\n",
    "        key,val=line.split(',')\n",
    "        letters[key]=val.strip()\n",
    "letters[',']=','\n",
    "with open('letters_positions.csv','r', encoding='utf-8') as inf:\n",
    "    for idx,line in enumerate(inf):       \n",
    "        letters_positions[line.strip()]=idx"
   ]
  },
  {
   "cell_type": "code",
   "execution_count": 7,
   "metadata": {},
   "outputs": [],
   "source": [
    "def is_two_pos(txt):\n",
    "    return txt in  [ \"أ\", \"ا\", \"إ\", \"آ\", \"ؤ\", \"د\", \"ذ\", \"ر\", \"ز\", \"و\", \"ة\", \"ء\", \"لا\", \"لأ\", \"لآ\", \"لإ\",\"ا\" ]"
   ]
  },
  {
   "cell_type": "code",
   "execution_count": 8,
   "metadata": {},
   "outputs": [],
   "source": [
    "def is_isoleted(txt):\n",
    "    return txt in ['0','1','2','3','4','5','6','7','8','9','!','\"','%','(',')',',','.','/',':','=','?','[',']','«','»','،','؛','؟','–','+',' ','ء','.',',',':',' ']"
   ]
  },
  {
   "cell_type": "code",
   "execution_count": 9,
   "metadata": {},
   "outputs": [],
   "source": [
    "def get_letter_position( cur,  pre =None, nex = None):\n",
    "    if pre == None and nex==None:\n",
    "        return ''\n",
    "    if is_isoleted(cur):\n",
    "        return ''\n",
    "    if is_two_pos(cur):\n",
    "        if is_two_pos(pre) or pre == None or is_isoleted(pre):\n",
    "            return ''\n",
    "        else:\n",
    "            return \"_E\"\n",
    "    else:\n",
    "        if pre != None and nex!=None and not is_two_pos(pre) and not is_isoleted(nex) and not is_isoleted(pre):\n",
    "            return '_M'\n",
    "        elif (pre == None or is_isoleted(pre)   or is_two_pos(pre)  ) and (nex != None and not is_isoleted(nex)  ):\n",
    "            return '_S'\n",
    "        elif (nex ==None or  is_isoleted(nex) ) and not (is_two_pos(pre) or is_isoleted(pre) ):\n",
    "            return '_E'\n",
    "    return ''"
   ]
  },
  {
   "cell_type": "code",
   "execution_count": 10,
   "metadata": {},
   "outputs": [],
   "source": [
    "text=' امن بة كثير من الرجال والنساء والغلام'"
   ]
  },
  {
   "cell_type": "code",
   "execution_count": 15,
   "metadata": {},
   "outputs": [],
   "source": [
    "def text2label(text): \n",
    "    encoded=''\n",
    "    pre=None\n",
    "    nex=None\n",
    "    cont=False\n",
    "    if len(text)==1:\n",
    "        encoded=chars[letters_positions[letters[text]]]\n",
    "        return encoded\n",
    "    for idx,cur in enumerate(text):    \n",
    "        if cont:\n",
    "            cont=False\n",
    "            continue\n",
    "        if(len(text)==1):\n",
    "            print(letters_positions[letters[text]])\n",
    "        if idx == 0 :\n",
    "            pre=None\n",
    "            nex=text[idx+1]\n",
    "        elif idx==len(text)-1:\n",
    "            pre=text[idx-1]\n",
    "            nex=None\n",
    "        else:\n",
    "            pre=text[idx-1]\n",
    "            nex=text[idx+1]\n",
    "            \n",
    "        if cur=='ل' and nex in alefs:\n",
    "            cur=cur+nex\n",
    "            cont=True\n",
    "            if idx+1==len(text)-1:\n",
    "                nex=None\n",
    "            else:\n",
    "                nex=text[idx+2]\n",
    "        encoded=encoded+chars[letters_positions[letters[cur] + get_letter_position(cur, pre, nex)]]\n",
    "    return encoded\n",
    "    #     print('pre:'+str(pre)+',cur:'+cur+',nex:'+str(nex))\n",
    "    \n",
    "\n",
    "        \n",
    "        \n",
    "        "
   ]
  },
  {
   "cell_type": "code",
   "execution_count": 12,
   "metadata": {},
   "outputs": [
    {
     "data": {
      "text/plain": [
       "' NĈĎ QU ĀÁěÔ ĈĎ NĄÔÄOă ēNĄčÙOA ēNĄõĞć'"
      ]
     },
     "execution_count": 12,
     "metadata": {},
     "output_type": "execute_result"
    }
   ],
   "source": [
    "text2label(text)\n"
   ]
  },
  {
   "cell_type": "code",
   "execution_count": 13,
   "metadata": {},
   "outputs": [],
   "source": [
    "import pandas as pd "
   ]
  },
  {
   "cell_type": "code",
   "execution_count": 17,
   "metadata": {},
   "outputs": [],
   "source": [
    "df['labels']=df['text'].apply(lambda x:text2label(x))"
   ]
  },
  {
   "cell_type": "code",
   "execution_count": 14,
   "metadata": {},
   "outputs": [
    {
     "data": {
      "text/html": [
       "<div>\n",
       "<style scoped>\n",
       "    .dataframe tbody tr th:only-of-type {\n",
       "        vertical-align: middle;\n",
       "    }\n",
       "\n",
       "    .dataframe tbody tr th {\n",
       "        vertical-align: top;\n",
       "    }\n",
       "\n",
       "    .dataframe thead th {\n",
       "        text-align: right;\n",
       "    }\n",
       "</style>\n",
       "<table border=\"1\" class=\"dataframe\">\n",
       "  <thead>\n",
       "    <tr style=\"text-align: right;\">\n",
       "      <th></th>\n",
       "      <th>file_name</th>\n",
       "      <th>text</th>\n",
       "    </tr>\n",
       "  </thead>\n",
       "  <tbody>\n",
       "    <tr>\n",
       "      <td>0</td>\n",
       "      <td>1.txt</td>\n",
       "      <td>ذهب احمد الى المدرسة</td>\n",
       "    </tr>\n",
       "    <tr>\n",
       "      <td>1</td>\n",
       "      <td>2.txt</td>\n",
       "      <td>الانسان</td>\n",
       "    </tr>\n",
       "    <tr>\n",
       "      <td>2</td>\n",
       "      <td>3.txt</td>\n",
       "      <td>اللغة العربية</td>\n",
       "    </tr>\n",
       "  </tbody>\n",
       "</table>\n",
       "</div>"
      ],
      "text/plain": [
       "  file_name                  text\n",
       "0     1.txt  ذهب احمد الى المدرسة\n",
       "1     2.txt               الانسان\n",
       "2     3.txt         اللغة العربية"
      ]
     },
     "execution_count": 14,
     "metadata": {},
     "output_type": "execute_result"
    }
   ],
   "source": [
    "df=pd.read_csv('labels.csv')\n"
   ]
  },
  {
   "cell_type": "code",
   "execution_count": 18,
   "metadata": {},
   "outputs": [
    {
     "data": {
      "text/html": [
       "<div>\n",
       "<style scoped>\n",
       "    .dataframe tbody tr th:only-of-type {\n",
       "        vertical-align: middle;\n",
       "    }\n",
       "\n",
       "    .dataframe tbody tr th {\n",
       "        vertical-align: top;\n",
       "    }\n",
       "\n",
       "    .dataframe thead th {\n",
       "        text-align: right;\n",
       "    }\n",
       "</style>\n",
       "<table border=\"1\" class=\"dataframe\">\n",
       "  <thead>\n",
       "    <tr style=\"text-align: right;\">\n",
       "      <th></th>\n",
       "      <th>file_name</th>\n",
       "      <th>text</th>\n",
       "      <th>labels</th>\n",
       "    </tr>\n",
       "  </thead>\n",
       "  <tbody>\n",
       "    <tr>\n",
       "      <td>0</td>\n",
       "      <td>1.txt</td>\n",
       "      <td>ذهب احمد الى المدرسة</td>\n",
       "      <td>ÑĐS NÈĉÐ NĄĘ NĄĉÐÓØU</td>\n",
       "    </tr>\n",
       "    <tr>\n",
       "      <td>1</td>\n",
       "      <td>2.txt</td>\n",
       "      <td>الانسان</td>\n",
       "      <td>NĝČÙOċ</td>\n",
       "    </tr>\n",
       "    <tr>\n",
       "      <td>2</td>\n",
       "      <td>3.txt</td>\n",
       "      <td>اللغة العربية</td>\n",
       "      <td>NĄąõU NĄñÔQěU</td>\n",
       "    </tr>\n",
       "  </tbody>\n",
       "</table>\n",
       "</div>"
      ],
      "text/plain": [
       "  file_name                  text                labels\n",
       "0     1.txt  ذهب احمد الى المدرسة  ÑĐS NÈĉÐ NĄĘ NĄĉÐÓØU\n",
       "1     2.txt               الانسان                NĝČÙOċ\n",
       "2     3.txt         اللغة العربية         NĄąõU NĄñÔQěU"
      ]
     },
     "execution_count": 18,
     "metadata": {},
     "output_type": "execute_result"
    }
   ],
   "source": [
    "df.head()"
   ]
  },
  {
   "cell_type": "code",
   "execution_count": 24,
   "metadata": {},
   "outputs": [
    {
     "name": "stdout",
     "output_type": "stream",
     "text": [
      "[44, 107, 19, 0, 14, 35, 100, 43, 0, 14, 95, 115, 0, 14, 95, 100, 43, 46, 51, 21]\n",
      "[14, 120, 103, 52, 15, 102]\n",
      "[14, 95, 96, 80, 21, 0, 14, 95, 76, 47, 17, 118, 21]\n"
     ]
    }
   ],
   "source": [
    "#write labels to files to be placed as pairs with feature file e.g  1_input.npy  as feature and 1_target.npy as label\n",
    "alphabet=Alphabet('alphabet.txt')\n",
    "for idx,row in df.iterrows():\n",
    "    print(alphabet.encode(row['labels']))\n",
    "    np.save('inputs/'+row['file_name'].replace('.txt','_target.npy'),alphabet.encode(row['labels']))"
   ]
  },
  {
   "cell_type": "code",
   "execution_count": null,
   "metadata": {},
   "outputs": [],
   "source": [
    "alphabet.encode('')"
   ]
  }
 ],
 "metadata": {
  "kernelspec": {
   "display_name": "Python 3",
   "language": "python",
   "name": "python3"
  },
  "language_info": {
   "codemirror_mode": {
    "name": "ipython",
    "version": 3
   },
   "file_extension": ".py",
   "mimetype": "text/x-python",
   "name": "python",
   "nbconvert_exporter": "python",
   "pygments_lexer": "ipython3",
   "version": "3.7.4"
  }
 },
 "nbformat": 4,
 "nbformat_minor": 4
}
